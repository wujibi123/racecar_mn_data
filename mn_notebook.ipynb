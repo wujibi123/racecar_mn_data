{
 "cells": [
  {
   "cell_type": "code",
   "execution_count": null,
   "metadata": {},
   "outputs": [],
   "source": [
    "# Imports for instructor code, you don't have to edit!\n",
    "import rospy\n",
    "from rospy.numpy_msg import numpy_msg\n",
    "from sensor_msgs.msg import LaserScan\n",
    "from sensor_msgs.msg import Image\n",
    "from ackermann_msgs.msg import AckermannDriveStamped\n",
    "\n",
    "import cv2\n",
    "import numpy as np\n",
    "from matplotlib.pyplot import imshow\n",
    "%matplotlib inline"
   ]
  },
  {
   "cell_type": "code",
   "execution_count": null,
   "metadata": {},
   "outputs": [],
   "source": [
    "# Starter code class that handles the fancy stuff. You don't have to edit this!\n",
    "class Racecar:\n",
    "    SCAN_TOPIC = \"/scan\"\n",
    "    IMAGE_TOPIC = \"/camera\"\n",
    "    DRIVE_TOPIC = \"/drive\"\n",
    "    \n",
    "    def __init__(self):\n",
    "        self.sub_scan = rospy.Subscriber(self.SCAN_TOPIC, LaserScan, callback=self.scan_callback)\n",
    "        self.sub_image = rospy.Subscriber(self.IMAGE_TOPIC, Image, callback=self.image_callback)\n",
    "        self.pub_drive = rospy.Publisher(self.DRIVE_TOPIC, AckermannDriveStamped, queue_size=1)\n",
    "        self.last_drive = AckermannDriveStamped()\n",
    "    \n",
    "    def image_callback(self, msg):\n",
    "        self.last_image = msg.data\n",
    "        \n",
    "    def show_last_image(self):\n",
    "        im = np.fromstring(rc.last_image,dtype=np.uint8).reshape((480,640,3))[...,::-1]\n",
    "        imshow(im)\n",
    "        \n",
    "    def scan_callback(self, msg):\n",
    "        self.last_scan = msg.ranges\n",
    "        \n",
    "    def drive(self, speed, angle):\n",
    "        msg = AckermannDriveStamped()\n",
    "        msg.drive.speed = speed\n",
    "        msg.drive.steering_angle = angle\n",
    "        self.last_drive = msg\n",
    "    \n",
    "    def stop(self):\n",
    "        self.drive(0, self.last_drive.drive_steering_angle)\n",
    "    \n",
    "    def look(self):\n",
    "        return self.last_image\n",
    "    \n",
    "    def scan(self):\n",
    "        return self.last_scan\n",
    "    \n",
    "    def run(self, func):\n",
    "        r = rospy.Rate(60)\n",
    "        while not rospy.is_shutdown():\n",
    "            func()\n",
    "            self.pub_drive.publish(self.last_drive)\n",
    "            r.sleep()\n",
    "    \n",
    "rospy.init_node('racecar')\n",
    "rc = Racecar()"
   ]
  },
  {
   "cell_type": "code",
   "execution_count": null,
   "metadata": {},
   "outputs": [],
   "source": [
    "# Define your function here!\n",
    "# rc.drive(2,0) goes straight foward with a speed of 2\n",
    "# rc.stop() makes the car stop driving\n",
    "def student_code():\n",
    "    rc.drive(2,0)\n",
    "\n",
    "# run this code to make the car go\n",
    "# when you want the car to stop, press the stop button\n",
    "rc.run(student_code)"
   ]
  }
 ],
 "metadata": {
  "celltoolbar": "Raw Cell Format",
  "kernelspec": {
   "display_name": "Python 2",
   "language": "python",
   "name": "python2"
  },
  "language_info": {
   "codemirror_mode": {
    "name": "ipython",
    "version": 2
   },
   "file_extension": ".py",
   "mimetype": "text/x-python",
   "name": "python",
   "nbconvert_exporter": "python",
   "pygments_lexer": "ipython2",
   "version": "2.7.16"
  }
 },
 "nbformat": 4,
 "nbformat_minor": 2
}
